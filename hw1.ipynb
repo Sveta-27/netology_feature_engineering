{
 "cells": [
  {
   "cell_type": "code",
   "execution_count": 1,
   "metadata": {},
   "outputs": [],
   "source": [
    "import numpy as np\n",
    "import pandas as pd\n",
    "\n",
    "from sklearn.linear_model import LinearRegression"
   ]
  },
  {
   "cell_type": "code",
   "execution_count": 4,
   "metadata": {},
   "outputs": [
    {
     "data": {
      "text/html": [
       "<div>\n",
       "<style scoped>\n",
       "    .dataframe tbody tr th:only-of-type {\n",
       "        vertical-align: middle;\n",
       "    }\n",
       "\n",
       "    .dataframe tbody tr th {\n",
       "        vertical-align: top;\n",
       "    }\n",
       "\n",
       "    .dataframe thead th {\n",
       "        text-align: right;\n",
       "    }\n",
       "</style>\n",
       "<table border=\"1\" class=\"dataframe\">\n",
       "  <thead>\n",
       "    <tr style=\"text-align: right;\">\n",
       "      <th></th>\n",
       "      <th>car_age</th>\n",
       "      <th>road_len</th>\n",
       "      <th>fuel_consumption</th>\n",
       "      <th>oil_cost</th>\n",
       "      <th>road_price</th>\n",
       "    </tr>\n",
       "  </thead>\n",
       "  <tbody>\n",
       "    <tr>\n",
       "      <td>0</td>\n",
       "      <td>3</td>\n",
       "      <td>31</td>\n",
       "      <td>6</td>\n",
       "      <td>41</td>\n",
       "      <td>211.833333</td>\n",
       "    </tr>\n",
       "    <tr>\n",
       "      <td>1</td>\n",
       "      <td>0</td>\n",
       "      <td>22</td>\n",
       "      <td>7</td>\n",
       "      <td>40</td>\n",
       "      <td>125.714286</td>\n",
       "    </tr>\n",
       "    <tr>\n",
       "      <td>2</td>\n",
       "      <td>9</td>\n",
       "      <td>23</td>\n",
       "      <td>8</td>\n",
       "      <td>41</td>\n",
       "      <td>117.875000</td>\n",
       "    </tr>\n",
       "    <tr>\n",
       "      <td>3</td>\n",
       "      <td>16</td>\n",
       "      <td>52</td>\n",
       "      <td>5</td>\n",
       "      <td>41</td>\n",
       "      <td>426.400000</td>\n",
       "    </tr>\n",
       "    <tr>\n",
       "      <td>4</td>\n",
       "      <td>12</td>\n",
       "      <td>50</td>\n",
       "      <td>6</td>\n",
       "      <td>41</td>\n",
       "      <td>341.666667</td>\n",
       "    </tr>\n",
       "  </tbody>\n",
       "</table>\n",
       "</div>"
      ],
      "text/plain": [
       "   car_age  road_len  fuel_consumption  oil_cost  road_price\n",
       "0        3        31                 6        41  211.833333\n",
       "1        0        22                 7        40  125.714286\n",
       "2        9        23                 8        41  117.875000\n",
       "3       16        52                 5        41  426.400000\n",
       "4       12        50                 6        41  341.666667"
      ]
     },
     "execution_count": 4,
     "metadata": {},
     "output_type": "execute_result"
    }
   ],
   "source": [
    "# Создаём сэмпл\n",
    "n_samples = 500\n",
    "\n",
    "car_age = np.random.choice(20, n_samples)\n",
    "road_len = np.random.choice(100, n_samples)\n",
    "fuel_consumption = np.random.choice(7, n_samples) + 3\n",
    "oil_cost = np.random.choice(2, n_samples) + 40\n",
    "\n",
    "road_price = (road_len/fuel_consumption) * oil_cost \n",
    "\n",
    "data = pd.DataFrame({'car_age': car_age, 'road_len': road_len, \n",
    "                     'fuel_consumption': fuel_consumption, \n",
    "                     'oil_cost' : oil_cost,'road_price': road_price})\n",
    "data.head(5)"
   ]
  },
  {
   "cell_type": "code",
   "execution_count": 10,
   "metadata": {},
   "outputs": [
    {
     "name": "stdout",
     "output_type": "stream",
     "text": [
      "Weights: [ -0.79300433   7.75280834 -71.72010565  13.64954451]\n",
      "Bias: -118.43583975062802\n",
      "Error: 69.70888806907844\n"
     ]
    }
   ],
   "source": [
    "from sklearn.metrics import mean_absolute_error\n",
    "\n",
    "X = data[['car_age', 'road_len', 'fuel_consumption', 'oil_cost']]\n",
    "y = data['road_price']\n",
    "reg = LinearRegression().fit(X, y)\n",
    "print('Weights: {}'.format(reg.coef_))\n",
    "print('Bias: {}'.format(reg.intercept_))\n",
    "\n",
    "pred_values = reg.predict(data[['car_age', 'road_len', 'fuel_consumption', 'oil_cost']])\n",
    "print('Error: {}'.format(mean_absolute_error(pred_values, y)))"
   ]
  },
  {
   "cell_type": "code",
   "execution_count": 11,
   "metadata": {},
   "outputs": [
    {
     "name": "stdout",
     "output_type": "stream",
     "text": [
      "Weights: [  7.75317625 -71.79402043  14.24793337]\n",
      "Bias: -149.35585897150338\n",
      "Error: 69.73988030026214\n"
     ]
    }
   ],
   "source": [
    "X = data[['road_len', 'fuel_consumption', 'oil_cost']]\n",
    "y = data['road_price']\n",
    "reg = LinearRegression().fit(X, y)\n",
    "print('Weights: {}'.format(reg.coef_))\n",
    "print('Bias: {}'.format(reg.intercept_))\n",
    "\n",
    "pred_values = reg.predict(data[['road_len', 'fuel_consumption', 'oil_cost']])\n",
    "print('Error: {}'.format(mean_absolute_error(pred_values, y)))"
   ]
  },
  {
   "cell_type": "code",
   "execution_count": 12,
   "metadata": {},
   "outputs": [
    {
     "data": {
      "text/html": [
       "<div>\n",
       "<style scoped>\n",
       "    .dataframe tbody tr th:only-of-type {\n",
       "        vertical-align: middle;\n",
       "    }\n",
       "\n",
       "    .dataframe tbody tr th {\n",
       "        vertical-align: top;\n",
       "    }\n",
       "\n",
       "    .dataframe thead th {\n",
       "        text-align: right;\n",
       "    }\n",
       "</style>\n",
       "<table border=\"1\" class=\"dataframe\">\n",
       "  <thead>\n",
       "    <tr style=\"text-align: right;\">\n",
       "      <th></th>\n",
       "      <th>car_age</th>\n",
       "      <th>road_len</th>\n",
       "      <th>fuel_consumption</th>\n",
       "      <th>oil_cost</th>\n",
       "      <th>road_price</th>\n",
       "      <th>liter</th>\n",
       "    </tr>\n",
       "  </thead>\n",
       "  <tbody>\n",
       "    <tr>\n",
       "      <td>0</td>\n",
       "      <td>3</td>\n",
       "      <td>31</td>\n",
       "      <td>6</td>\n",
       "      <td>41</td>\n",
       "      <td>211.833333</td>\n",
       "      <td>5.166667</td>\n",
       "    </tr>\n",
       "    <tr>\n",
       "      <td>1</td>\n",
       "      <td>0</td>\n",
       "      <td>22</td>\n",
       "      <td>7</td>\n",
       "      <td>40</td>\n",
       "      <td>125.714286</td>\n",
       "      <td>3.142857</td>\n",
       "    </tr>\n",
       "    <tr>\n",
       "      <td>2</td>\n",
       "      <td>9</td>\n",
       "      <td>23</td>\n",
       "      <td>8</td>\n",
       "      <td>41</td>\n",
       "      <td>117.875000</td>\n",
       "      <td>2.875000</td>\n",
       "    </tr>\n",
       "    <tr>\n",
       "      <td>3</td>\n",
       "      <td>16</td>\n",
       "      <td>52</td>\n",
       "      <td>5</td>\n",
       "      <td>41</td>\n",
       "      <td>426.400000</td>\n",
       "      <td>10.400000</td>\n",
       "    </tr>\n",
       "    <tr>\n",
       "      <td>4</td>\n",
       "      <td>12</td>\n",
       "      <td>50</td>\n",
       "      <td>6</td>\n",
       "      <td>41</td>\n",
       "      <td>341.666667</td>\n",
       "      <td>8.333333</td>\n",
       "    </tr>\n",
       "  </tbody>\n",
       "</table>\n",
       "</div>"
      ],
      "text/plain": [
       "   car_age  road_len  fuel_consumption  oil_cost  road_price      liter\n",
       "0        3        31                 6        41  211.833333   5.166667\n",
       "1        0        22                 7        40  125.714286   3.142857\n",
       "2        9        23                 8        41  117.875000   2.875000\n",
       "3       16        52                 5        41  426.400000  10.400000\n",
       "4       12        50                 6        41  341.666667   8.333333"
      ]
     },
     "execution_count": 12,
     "metadata": {},
     "output_type": "execute_result"
    }
   ],
   "source": [
    "# Создаем новый признак\n",
    "data['liter'] = data['road_len'] / data['fuel_consumption']\n",
    "data.head(5)"
   ]
  },
  {
   "cell_type": "code",
   "execution_count": 14,
   "metadata": {},
   "outputs": [
    {
     "name": "stdout",
     "output_type": "stream",
     "text": [
      "Weights: [40.56547218  9.22264617]\n",
      "Bias: -373.7939433886603\n",
      "Error: 2.5873576045025732\n"
     ]
    }
   ],
   "source": [
    "X = data[['liter', 'oil_cost']]\n",
    "y = data['road_price']\n",
    "reg = LinearRegression().fit(X, y)\n",
    "print('Weights: {}'.format(reg.coef_))\n",
    "print('Bias: {}'.format(reg.intercept_))\n",
    "\n",
    "pred_values = reg.predict(data[['liter', 'oil_cost']])\n",
    "print('Error: {}'.format(mean_absolute_error(pred_values, y)))"
   ]
  },
  {
   "cell_type": "code",
   "execution_count": null,
   "metadata": {},
   "outputs": [],
   "source": []
  },
  {
   "cell_type": "code",
   "execution_count": null,
   "metadata": {},
   "outputs": [],
   "source": []
  },
  {
   "cell_type": "code",
   "execution_count": null,
   "metadata": {},
   "outputs": [],
   "source": []
  }
 ],
 "metadata": {
  "kernelspec": {
   "display_name": "Python 3",
   "language": "python",
   "name": "python3"
  },
  "language_info": {
   "codemirror_mode": {
    "name": "ipython",
    "version": 3
   },
   "file_extension": ".py",
   "mimetype": "text/x-python",
   "name": "python",
   "nbconvert_exporter": "python",
   "pygments_lexer": "ipython3",
   "version": "3.7.4"
  }
 },
 "nbformat": 4,
 "nbformat_minor": 2
}
